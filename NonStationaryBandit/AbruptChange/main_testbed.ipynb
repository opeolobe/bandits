{
 "cells": [
  {
   "cell_type": "markdown",
   "metadata": {},
   "source": [
    "# Necessary Libraries"
   ]
  },
  {
   "cell_type": "code",
   "execution_count": 1,
   "metadata": {},
   "outputs": [],
   "source": [
    "import numpy as np\n",
    "import matplotlib.pyplot as plt\n",
    "\n",
    "# algorithms\n",
    "from algorithms.epsilon_greedy import EpsilonGreedy\n",
    "from algorithms.optimistic_greedy import OptimisticGreedy"
   ]
  },
  {
   "cell_type": "markdown",
   "metadata": {},
   "source": [
    "# Experimental Runs"
   ]
  },
  {
   "cell_type": "code",
   "execution_count": 2,
   "metadata": {},
   "outputs": [],
   "source": [
    "num_arms = 10\n",
    "num_steps = 10000\n",
    "num_runs = 1000"
   ]
  },
  {
   "cell_type": "markdown",
   "metadata": {},
   "source": [
    "# a i. Optimistic-Greedy with decreasing step size"
   ]
  },
  {
   "cell_type": "code",
   "execution_count": 3,
   "metadata": {},
   "outputs": [],
   "source": [
    "initial_value = 5.0\n",
    "\n",
    "average_reward_optimistic = []\n",
    "\n",
    "# set starting seed\n",
    "np.random.seed(42)\n",
    "\n",
    "for run in range(num_runs):\n",
    "\n",
    "    # create testbed using optimistic-greedy search\n",
    "    bandit = OptimisticGreedy(num_arms= num_arms, initial_value= initial_value)\n",
    "\n",
    "    # run experiment to obtain terminal average reward\n",
    "    terminal_avg_reward = bandit.run_experiment(num_steps= num_steps)\n",
    "\n",
    "    average_reward_optimistic.append(terminal_avg_reward)\n",
    "\n",
    "    # change seed for next runs\n",
    "    seed = np.random.randint(100000)\n",
    "    np.random.seed(seed)"
   ]
  },
  {
   "cell_type": "markdown",
   "metadata": {},
   "source": [
    "# a ii. Optimistic-Greedy with fixed step size"
   ]
  },
  {
   "cell_type": "code",
   "execution_count": 4,
   "metadata": {},
   "outputs": [],
   "source": [
    "initial_value = 5.0\n",
    "\n",
    "alpha = 0.2\n",
    "\n",
    "average_reward_optimistic_fixed = []\n",
    "\n",
    "# set starting seed\n",
    "np.random.seed(42)\n",
    "\n",
    "for run in range(num_runs):\n",
    "\n",
    "    # create testbed using optimistic-greedy search\n",
    "    bandit = OptimisticGreedy(num_arms= num_arms, initial_value= initial_value, alpha= alpha)\n",
    "\n",
    "    # run experiment to obtain terminal average reward\n",
    "    terminal_avg_reward = bandit.run_experiment(num_steps= num_steps)\n",
    "\n",
    "    average_reward_optimistic_fixed.append(terminal_avg_reward)\n",
    "\n",
    "    # change seed for next runs\n",
    "    seed = np.random.randint(100000)\n",
    "    np.random.seed(seed)"
   ]
  },
  {
   "cell_type": "markdown",
   "metadata": {},
   "source": [
    "# b. Epsilon-Greed (Fixed step size)"
   ]
  },
  {
   "cell_type": "code",
   "execution_count": 5,
   "metadata": {},
   "outputs": [],
   "source": [
    "epsilon = 0.05\n",
    "\n",
    "alpha = 0.2\n",
    "\n",
    "average_reward_epsilon_fixed = []\n",
    "\n",
    "# set starting seed\n",
    "np.random.seed(42)\n",
    "\n",
    "for run in range(num_runs):\n",
    "\n",
    "    # create testbed using epsilon-greedy search with fixed step size\n",
    "    bandit = EpsilonGreedy(num_arms= num_arms, epsilon= epsilon, alpha= alpha)\n",
    "\n",
    "    # run experiment to obtain the terminal average reward\n",
    "    terminal_avg_reward = bandit.run_experiment(num_steps= num_steps)\n",
    "\n",
    "    average_reward_epsilon_fixed.append(terminal_avg_reward)\n",
    "\n",
    "    # change seed for next runs\n",
    "    seed = np.random.randint(100000)\n",
    "    np.random.seed(seed)\n"
   ]
  },
  {
   "cell_type": "markdown",
   "metadata": {},
   "source": [
    "# c. Epsilon-Greedy (Decreasing step size)"
   ]
  },
  {
   "cell_type": "code",
   "execution_count": 6,
   "metadata": {},
   "outputs": [],
   "source": [
    "epsilon = 0.05\n",
    "\n",
    "average_reward_epsilon = []\n",
    "\n",
    "# set starting seed\n",
    "np.random.seed(42)\n",
    "\n",
    "for run in range(num_runs):\n",
    "\n",
    "    # create testbed using epsilon-greedy search with decreasing step size\n",
    "    bandit = EpsilonGreedy(num_arms= num_arms, epsilon= epsilon)\n",
    "\n",
    "    # run experiment to obtain the terminal average reward\n",
    "    terminal_avg_reward = bandit.run_experiment(num_steps= num_steps)\n",
    "\n",
    "    average_reward_epsilon.append(terminal_avg_reward)\n",
    "\n",
    "    # change seed for next runs\n",
    "    seed = np.random.randint(100000)\n",
    "    np.random.seed(seed)"
   ]
  },
  {
   "cell_type": "markdown",
   "metadata": {},
   "source": [
    "# Average Reward"
   ]
  },
  {
   "cell_type": "code",
   "execution_count": 13,
   "metadata": {},
   "outputs": [
    {
     "data": {
      "image/png": "[encoded data removed]",
      "text/plain": [
       "<Figure size 900x600 with 1 Axes>"
      ]
     },
     "metadata": {},
     "output_type": "display_data"
    }
   ],
   "source": [
    "average_reward = [average_reward_optimistic, average_reward_optimistic_fixed, average_reward_epsilon_fixed, average_reward_epsilon]\n",
    "\n",
    "labels = ['Optimistic-greedy', 'Optimistic-greedy (fixed $\\\\alpha$)', '$\\epsilon$-greedy (fixed $\\\\alpha$)', '$\\epsilon$-greedy (decreasing $\\\\alpha$)']\n",
    "\n",
    "colors = ['tomato', 'blue', 'yellow', 'green']\n",
    "\n",
    "fig, ax = plt.subplots(figsize = (9, 6))\n",
    "\n",
    "ax.set_ylabel('Terminal Average Reward', weight = 'bold', fontsize = 12)\n",
    "\n",
    "ax.grid(color = 'y', linewidth = 0.1)\n",
    "\n",
    "bplot = ax.boxplot(average_reward, patch_artist= True, labels= labels)\n",
    "\n",
    "for patch, color in zip(bplot['boxes'], colors):\n",
    "    patch.set_facecolor(color)\n",
    "\n",
    "plt.show()"
   ]
  }
 ],
 "metadata": {
  "kernelspec": {
   "display_name": ".newvenv",
   "language": "python",
   "name": "python3"
  },
  "language_info": {
   "codemirror_mode": {
    "name": "ipython",
    "version": 3
   },
   "file_extension": ".py",
   "mimetype": "text/x-python",
   "name": "python",
   "nbconvert_exporter": "python",
   "pygments_lexer": "ipython3",
   "version": "3.10.6"
  }
 },
 "nbformat": 4,
 "nbformat_minor": 2
}
